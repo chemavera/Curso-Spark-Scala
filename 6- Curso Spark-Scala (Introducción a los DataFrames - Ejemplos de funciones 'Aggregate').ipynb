{
 "cells": [
  {
   "cell_type": "markdown",
   "id": "f5614efb",
   "metadata": {},
   "source": [
    "En primer lugar, vamos a crear un DataFrame para trabajar con las funciones de agregación."
   ]
  },
  {
   "cell_type": "code",
   "execution_count": 1,
   "id": "05bbda5c",
   "metadata": {},
   "outputs": [
    {
     "data": {
      "text/plain": [
       "Intitializing Scala interpreter ..."
      ]
     },
     "metadata": {},
     "output_type": "display_data"
    },
    {
     "data": {
      "text/plain": [
       "Spark Web UI available at http://ALC-1NJW5D3.usersad.everis.int:4043\n",
       "SparkContext available as 'sc' (version = 3.3.0, master = local[*], app id = local-1656931783081)\n",
       "SparkSession available as 'spark'\n"
      ]
     },
     "metadata": {},
     "output_type": "display_data"
    },
    {
     "name": "stdout",
     "output_type": "stream",
     "text": [
      "+-------------+----------+------+\n",
      "|employee_name|department|salary|\n",
      "+-------------+----------+------+\n",
      "|        James|     Sales|  3000|\n",
      "|      Michael|     Sales|  4600|\n",
      "|       Robert|     Sales|  4100|\n",
      "|        Maria|   Finance|  3000|\n",
      "|        James|     Sales|  3000|\n",
      "|        Scott|   Finance|  3300|\n",
      "|          Jen|   Finance|  3900|\n",
      "|         Jeff| Marketing|  3000|\n",
      "|        Kumar| Marketing|  2000|\n",
      "|         Saif|     Sales|  4100|\n",
      "+-------------+----------+------+\n",
      "\n"
     ]
    },
    {
     "data": {
      "text/plain": [
       "import spark.implicits._\r\n",
       "simpleData: Seq[(String, String, Int)] = List((James,Sales,3000), (Michael,Sales,4600), (Robert,Sales,4100), (Maria,Finance,3000), (James,Sales,3000), (Scott,Finance,3300), (Jen,Finance,3900), (Jeff,Marketing,3000), (Kumar,Marketing,2000), (Saif,Sales,4100))\r\n",
       "df: org.apache.spark.sql.DataFrame = [employee_name: string, department: string ... 1 more field]\r\n"
      ]
     },
     "execution_count": 1,
     "metadata": {},
     "output_type": "execute_result"
    },
    {
     "name": "stdout",
     "output_type": "stream",
     "text": [
      "22/07/04 12:50:02 WARN ProcfsMetricsGetter: Exception when trying to compute pagesize, as a result reporting of ProcessTree metrics is stopped\r\n"
     ]
    }
   ],
   "source": [
    "import spark.implicits._\n",
    "\n",
    "val simpleData = Seq((\"James\", \"Sales\", 3000),\n",
    "(\"Michael\", \"Sales\", 4600),\n",
    "(\"Robert\", \"Sales\", 4100),\n",
    "(\"Maria\", \"Finance\", 3000),\n",
    "(\"James\", \"Sales\", 3000),\n",
    "(\"Scott\", \"Finance\", 3300),\n",
    "(\"Jen\", \"Finance\", 3900),\n",
    "(\"Jeff\", \"Marketing\", 3000),\n",
    "(\"Kumar\", \"Marketing\", 2000),\n",
    "(\"Saif\", \"Sales\", 4100))\n",
    "val df = simpleData.toDF(\"employee_name\", \"department\", \"salary\")\n",
    "\n",
    "df.show()"
   ]
  },
  {
   "cell_type": "markdown",
   "id": "20aaf92a",
   "metadata": {},
   "source": [
    "## Función agregada ```approx_count_distinct```\n",
    "La función ```approx_count_distinct()``` devuelve el recuento de elementos distintos en un grupo."
   ]
  },
  {
   "cell_type": "code",
   "execution_count": 2,
   "id": "30a88893",
   "metadata": {},
   "outputs": [
    {
     "name": "stdout",
     "output_type": "stream",
     "text": [
      "22/07/04 12:50:10 WARN package: Truncated the string representation of a plan since it was too large. This behavior can be adjusted by setting 'spark.sql.debug.maxToStringFields'.\n",
      "approx_count_distinct: 6\n"
     ]
    }
   ],
   "source": [
    "//approx_count_distinct()\n",
    "println(\"approx_count_distinct: \"+ df.select(approx_count_distinct(\"salary\")).collect()(0)(0))"
   ]
  },
  {
   "cell_type": "markdown",
   "id": "3e3f5b75",
   "metadata": {},
   "source": [
    "## Función agregada ```collect_list()```\n",
    "La función ```collect_list()``` devuelve todos los valores de una columna de entrada con duplicados."
   ]
  },
  {
   "cell_type": "code",
   "execution_count": 3,
   "id": "a8b049a0",
   "metadata": {},
   "outputs": [
    {
     "name": "stdout",
     "output_type": "stream",
     "text": [
      "+------------------------------------------------------------+\n",
      "|collect_list(salary)                                        |\n",
      "+------------------------------------------------------------+\n",
      "|[3000, 4600, 4100, 3000, 3000, 3300, 3900, 3000, 2000, 4100]|\n",
      "+------------------------------------------------------------+\n",
      "\n"
     ]
    }
   ],
   "source": [
    "//collect_list\n",
    "df.select(collect_list(\"salary\")).show(false)"
   ]
  },
  {
   "cell_type": "markdown",
   "id": "7607263f",
   "metadata": {},
   "source": [
    "## Función agregada ```collect_set()```\n",
    "La función ```collect_set()``` devuelve todos los valores de una columna de entrada eliminando los valores duplicados."
   ]
  },
  {
   "cell_type": "code",
   "execution_count": 4,
   "id": "a183bac2",
   "metadata": {},
   "outputs": [
    {
     "name": "stdout",
     "output_type": "stream",
     "text": [
      "+------------------------------------+\n",
      "|collect_set(salary)                 |\n",
      "+------------------------------------+\n",
      "|[4600, 3000, 3900, 4100, 3300, 2000]|\n",
      "+------------------------------------+\n",
      "\n"
     ]
    }
   ],
   "source": [
    "//collect_set\n",
    "df.select(collect_set(\"salary\")).show(false)"
   ]
  },
  {
   "cell_type": "markdown",
   "id": "c55352e0",
   "metadata": {},
   "source": [
    "## Función agregada ```countDistinct()```\n",
    "La función ```countDistinct()``` devuelve el número de elementos distintos en una columna."
   ]
  },
  {
   "cell_type": "code",
   "execution_count": 5,
   "id": "df532adc",
   "metadata": {},
   "outputs": [
    {
     "name": "stdout",
     "output_type": "stream",
     "text": [
      "+----------------------------------+\n",
      "|count(DISTINCT department, salary)|\n",
      "+----------------------------------+\n",
      "|8                                 |\n",
      "+----------------------------------+\n",
      "\n",
      "Distinct Count of Department & Salary: 8\n"
     ]
    },
    {
     "data": {
      "text/plain": [
       "df2: org.apache.spark.sql.DataFrame = [count(DISTINCT department, salary): bigint]\r\n"
      ]
     },
     "execution_count": 5,
     "metadata": {},
     "output_type": "execute_result"
    }
   ],
   "source": [
    "//countDistinct\n",
    "val df2 = df.select(countDistinct(\"department\", \"salary\"))\n",
    "df2.show(false)\n",
    "println(\"Distinct Count of Department & Salary: \"+ df2.collect()(0)(0))"
   ]
  },
  {
   "cell_type": "markdown",
   "id": "3c1546bb",
   "metadata": {},
   "source": [
    "## Función ```grouping()```\n",
    "```grouping()``` Indica si una columna de entrada dada está agregada o no. Devuelve 1 si está agregada o 0 si no está agregada en el resultado. Si intenta agrupar directamente en la columna de salario obtendrá el siguiente error.\n",
    "\n",
    "``Exception in thread \"main\" org.apache.spark.sql.AnalysisException:\n",
    "  // grouping() can only be used with GroupingSets/Cube/Rollup``"
   ]
  },
  {
   "cell_type": "markdown",
   "id": "4e1ca198",
   "metadata": {},
   "source": [
    "## Función ``first()``\n",
    "La función ``first()`` devuelve el primer elemento de una columna cuando ``ignoreNulls`` está establecido en true, devuelve el primer elemento no nulo."
   ]
  },
  {
   "cell_type": "code",
   "execution_count": 6,
   "id": "34ffaf6c",
   "metadata": {},
   "outputs": [
    {
     "name": "stdout",
     "output_type": "stream",
     "text": [
      "+-------------+\n",
      "|first(salary)|\n",
      "+-------------+\n",
      "|3000         |\n",
      "+-------------+\n",
      "\n"
     ]
    }
   ],
   "source": [
    "//first\n",
    "df.select(first(\"salary\")).show(false)"
   ]
  },
  {
   "cell_type": "markdown",
   "id": "ba67e8c8",
   "metadata": {},
   "source": [
    "## Función ``last()``\n",
    "La función ``last()`` devuelve el último elemento de una columna. cuando ``ignoreNulls`` se establece en true, devuelve el último elemento no nulo."
   ]
  },
  {
   "cell_type": "code",
   "execution_count": 7,
   "id": "c4d99b09",
   "metadata": {},
   "outputs": [
    {
     "name": "stdout",
     "output_type": "stream",
     "text": [
      "+------------+\n",
      "|last(salary)|\n",
      "+------------+\n",
      "|4100        |\n",
      "+------------+\n",
      "\n"
     ]
    }
   ],
   "source": [
    "//last\n",
    "df.select(last(\"salary\")).show(false)"
   ]
  },
  {
   "cell_type": "markdown",
   "id": "6daca0ef",
   "metadata": {},
   "source": [
    "## Función ``kurtosis()``\n",
    "La función ``kurtosis()`` devuelve la curtosis de los valores de un grupo.\n",
    "\n",
    "**Curtosis:**\n",
    "La curtosis de una variable estadística/aleatoria es una característica de forma de su distribución de frecuencias/probabilidad.\n",
    "\n",
    "Según su concepción clásica, una curtosis grande implica una mayor concentración de valores de la variable tanto muy cerca de la media de la distribución (pico) como muy lejos de ella (colas), al tiempo que existe una relativamente menor frecuencia de valores intermedios. Esto explica una forma de la distribución de frecuencias/probabilidad con colas más gruesas, con un centro más apuntado y una menor proporción de valores intermedios entre el pico y colas.\n",
    "\n",
    "Una mayor curtosis no implica una mayor varianza, ni viceversa."
   ]
  },
  {
   "cell_type": "code",
   "execution_count": 8,
   "id": "7657813f",
   "metadata": {},
   "outputs": [
    {
     "name": "stdout",
     "output_type": "stream",
     "text": [
      "+-------------------+\n",
      "|kurtosis(salary)   |\n",
      "+-------------------+\n",
      "|-0.6467803030303032|\n",
      "+-------------------+\n",
      "\n"
     ]
    }
   ],
   "source": [
    "df.select(kurtosis(\"salary\")).show(false)"
   ]
  },
  {
   "cell_type": "markdown",
   "id": "15deeb7a",
   "metadata": {},
   "source": [
    "## Función``skewness()``\n",
    "La función ``skewness()`` devuelve la asimetría de los valores de un grupo."
   ]
  },
  {
   "cell_type": "code",
   "execution_count": 9,
   "id": "5b75500f",
   "metadata": {},
   "outputs": [
    {
     "name": "stdout",
     "output_type": "stream",
     "text": [
      "+--------------------+\n",
      "|skewness(salary)    |\n",
      "+--------------------+\n",
      "|-0.12041791181069571|\n",
      "+--------------------+\n",
      "\n"
     ]
    }
   ],
   "source": [
    "df.select(skewness(\"salary\")).show(false)"
   ]
  },
  {
   "cell_type": "markdown",
   "id": "b29ab947",
   "metadata": {},
   "source": [
    "## ``stddev()``, ``stddev_samp()`` y ``stddev_pop()``\n",
    "``stddev()`` alias de ``stddev_samp``.\n",
    "\n",
    "La función ``stddev_samp()`` devuelve la desviación estándar muestral de los valores de una columna.\n",
    "\n",
    "La función ``stddev_pop()`` devuelve la desviación estándar poblacional de los valores de una columna."
   ]
  },
  {
   "cell_type": "code",
   "execution_count": 10,
   "id": "d2eaeb11",
   "metadata": {},
   "outputs": [
    {
     "name": "stdout",
     "output_type": "stream",
     "text": [
      "+-------------------+-------------------+------------------+\n",
      "|stddev_samp(salary)|stddev_samp(salary)|stddev_pop(salary)|\n",
      "+-------------------+-------------------+------------------+\n",
      "|765.9416862050705  |765.9416862050705  |726.636084983398  |\n",
      "+-------------------+-------------------+------------------+\n",
      "\n"
     ]
    }
   ],
   "source": [
    "df.select(stddev(\"salary\"), stddev_samp(\"salary\"), stddev_pop(\"salary\")).show(false)"
   ]
  },
  {
   "cell_type": "markdown",
   "id": "dc892cf1",
   "metadata": {},
   "source": [
    "## Función ``sumDistinct()``\n",
    "La función ``sumDistinct()`` devuelve la suma de todos los valores distintos de una columna."
   ]
  },
  {
   "cell_type": "code",
   "execution_count": 11,
   "id": "b0e4a1f1",
   "metadata": {},
   "outputs": [
    {
     "name": "stdout",
     "output_type": "stream",
     "text": [
      "+--------------------+\n",
      "|sum(DISTINCT salary)|\n",
      "+--------------------+\n",
      "|20900               |\n",
      "+--------------------+\n",
      "\n"
     ]
    }
   ],
   "source": [
    "df.select(sumDistinct(\"salary\")).show(false)"
   ]
  },
  {
   "cell_type": "markdown",
   "id": "c3e34b20",
   "metadata": {},
   "source": [
    "## ``variance()``, ``var_samp()``, ``var_pop()``\n",
    "``varianza()`` alias de ``var_samp()``.\n",
    "\n",
    "La función ``var_samp()`` devuelve la varianza insesgada de los valores de una columna.\n",
    "\n",
    "La función ``var_pop()`` devuelve la varianza poblacional de los valores de una columna."
   ]
  },
  {
   "cell_type": "code",
   "execution_count": 12,
   "id": "efd8a637",
   "metadata": {},
   "outputs": [
    {
     "name": "stdout",
     "output_type": "stream",
     "text": [
      "+-----------------+-----------------+---------------+\n",
      "|var_samp(salary) |var_samp(salary) |var_pop(salary)|\n",
      "+-----------------+-----------------+---------------+\n",
      "|586666.6666666666|586666.6666666666|528000.0       |\n",
      "+-----------------+-----------------+---------------+\n",
      "\n"
     ]
    }
   ],
   "source": [
    "df.select(variance(\"salary\"),var_samp(\"salary\"),var_pop(\"salary\")).show(false)"
   ]
  }
 ],
 "metadata": {
  "kernelspec": {
   "display_name": "spylon-kernel",
   "language": "scala",
   "name": "spylon-kernel"
  },
  "language_info": {
   "codemirror_mode": "text/x-scala",
   "file_extension": ".scala",
   "help_links": [
    {
     "text": "MetaKernel Magics",
     "url": "https://metakernel.readthedocs.io/en/latest/source/README.html"
    }
   ],
   "mimetype": "text/x-scala",
   "name": "scala",
   "pygments_lexer": "scala",
   "version": "0.4.1"
  }
 },
 "nbformat": 4,
 "nbformat_minor": 5
}
