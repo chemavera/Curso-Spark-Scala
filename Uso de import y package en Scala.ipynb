{
 "cells": [
  {
   "cell_type": "markdown",
   "id": "9a772171",
   "metadata": {},
   "source": [
    "# 9- Uso de import y package en Scala"
   ]
  },
  {
   "cell_type": "markdown",
   "id": "962f16a4",
   "metadata": {},
   "source": [
    "Los imports pueden utilizarse en cualquier lugar de un archivo de Scala, no necesariamente al principio. Los paquetes sí deben definirse al principio del archivo."
   ]
  },
  {
   "cell_type": "markdown",
   "id": "0d2e2f00",
   "metadata": {},
   "source": [
    "Según la documentación de Scala (https://docs.scala-lang.org/tour/packages-and-imports.html):\n",
    "\n",
    "- `package` se utiliza para definir el paquete en el que se encuentra el archivo. \n",
    "\n",
    "- `import` se utiliza para importar paquetes o funciones de paquetes externos."
   ]
  },
  {
   "cell_type": "markdown",
   "id": "6ef77859",
   "metadata": {},
   "source": [
    "`package com.sparkbyexamples.spark.dataframe` indica que el código que se está escribiendo pertenece a ese paquete: es del proyecto sparkbyexamples.com y sigue la estructura interna de spark.dataframe. (Creo que da error al intentar definir un paquete aquí por ser un notebook)."
   ]
  },
  {
   "cell_type": "markdown",
   "id": "68314196",
   "metadata": {},
   "source": [
    "`import org.apache.spark.sql._` indica que queremos importar todo el paquete de spark.sql en nuestro código."
   ]
  },
  {
   "cell_type": "markdown",
   "id": "6814184a",
   "metadata": {},
   "source": [
    "\n",
    "***\n",
    "\n",
    "[Cuatro librerías que forman parte de spark: Spark SQL, MLlib, Spark Streaming y Structured Streaming, y GraphX. Librerías externas: en https://spark-packages.org/.]"
   ]
  }
 ],
 "metadata": {
  "kernelspec": {
   "display_name": "spylon-kernel",
   "language": "scala",
   "name": "spylon-kernel"
  },
  "language_info": {
   "codemirror_mode": "text/x-scala",
   "file_extension": ".scala",
   "help_links": [
    {
     "text": "MetaKernel Magics",
     "url": "https://metakernel.readthedocs.io/en/latest/source/README.html"
    }
   ],
   "mimetype": "text/x-scala",
   "name": "scala",
   "pygments_lexer": "scala",
   "version": "0.4.1"
  }
 },
 "nbformat": 4,
 "nbformat_minor": 5
}
