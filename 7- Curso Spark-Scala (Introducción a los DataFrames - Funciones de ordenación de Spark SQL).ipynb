{
 "cells": [
  {
   "cell_type": "markdown",
   "id": "8f383924",
   "metadata": {},
   "source": [
    "Spark SQL proporciona funciones de ordenación estándar incorporadas definidas en la API de DataFrame, que resultan útiles cuando necesitamos ordenar la columna de DataFrame. Todas ellas aceptan como entrada el nombre de la columna en forma de cadena y devuelven un tipo de columna.\n",
    "\n",
    "Cuando sea posible, intente aprovechar la biblioteca estándar, ya que son un poco más seguras en tiempo de compilación, manejan los nulos y tienen un mejor rendimiento en comparación con las UDF. Si su aplicación es crítica en cuanto al rendimiento, intente evitar el uso de UDF personalizados a toda costa, ya que los UDF no garantizan el rendimiento.\n",
    "\n",
    "Las funciones de ordenación de Spark SQL se agrupan como \"sort_funcs\" en Spark SQL, estas funciones de ordenación son útiles cuando queremos realizar cualquier operación ascendente y descendente en las columnas.\n",
    "\n",
    "Se utilizan principalmente en la función de ordenación del Dataframe o Dataset."
   ]
  },
  {
   "cell_type": "code",
   "execution_count": 1,
   "id": "d40494e7",
   "metadata": {},
   "outputs": [
    {
     "data": {
      "text/plain": [
       "Intitializing Scala interpreter ..."
      ]
     },
     "metadata": {},
     "output_type": "display_data"
    },
    {
     "data": {
      "text/plain": [
       "Spark Web UI available at http://ALC-1NJW5D3.usersad.everis.int:4044\n",
       "SparkContext available as 'sc' (version = 3.3.0, master = local[*], app id = local-1656934263400)\n",
       "SparkSession available as 'spark'\n"
      ]
     },
     "metadata": {},
     "output_type": "display_data"
    },
    {
     "name": "stdout",
     "output_type": "stream",
     "text": [
      "+-------------+----------+------+\n",
      "|employee_name|department|salary|\n",
      "+-------------+----------+------+\n",
      "|        James|     Sales|  3000|\n",
      "|      Michael|     Sales|  4600|\n",
      "|       Robert|     Sales|  4100|\n",
      "|        Maria|   Finance|  3000|\n",
      "|        James|     Sales|  3000|\n",
      "|        Scott|   Finance|  3300|\n",
      "|          Jen|   Finance|  3900|\n",
      "|         Jeff| Marketing|  3000|\n",
      "|        Kumar| Marketing|  2000|\n",
      "|         Saif|     Sales|  4100|\n",
      "+-------------+----------+------+\n",
      "\n"
     ]
    },
    {
     "data": {
      "text/plain": [
       "import spark.implicits._\r\n",
       "simpleData: Seq[(String, String, Int)] = List((James,Sales,3000), (Michael,Sales,4600), (Robert,Sales,4100), (Maria,Finance,3000), (James,Sales,3000), (Scott,Finance,3300), (Jen,Finance,3900), (Jeff,Marketing,3000), (Kumar,Marketing,2000), (Saif,Sales,4100))\r\n",
       "df: org.apache.spark.sql.DataFrame = [employee_name: string, department: string ... 1 more field]\r\n"
      ]
     },
     "execution_count": 1,
     "metadata": {},
     "output_type": "execute_result"
    },
    {
     "name": "stdout",
     "output_type": "stream",
     "text": [
      "22/07/04 13:31:15 WARN ProcfsMetricsGetter: Exception when trying to compute pagesize, as a result reporting of ProcessTree metrics is stopped\r\n"
     ]
    }
   ],
   "source": [
    "import spark.implicits._\n",
    "\n",
    "val simpleData = Seq((\"James\", \"Sales\", 3000),\n",
    "(\"Michael\", \"Sales\", 4600),\n",
    "(\"Robert\", \"Sales\", 4100),\n",
    "(\"Maria\", \"Finance\", 3000),\n",
    "(\"James\", \"Sales\", 3000),\n",
    "(\"Scott\", \"Finance\", 3300),\n",
    "(\"Jen\", \"Finance\", 3900),\n",
    "(\"Jeff\", \"Marketing\", 3000),\n",
    "(\"Kumar\", \"Marketing\", 2000),\n",
    "(\"Saif\", \"Sales\", 4100))\n",
    "val df = simpleData.toDF(\"employee_name\", \"department\", \"salary\")\n",
    "\n",
    "df.show()"
   ]
  },
  {
   "cell_type": "markdown",
   "id": "b7e3d08c",
   "metadata": {},
   "source": [
    "## Función ascendente``asc()``\n",
    "La función ``asc()`` se utiliza para especificar el orden ascendente de la columna de ordenación en DataFrame o DataSet."
   ]
  },
  {
   "cell_type": "code",
   "execution_count": 2,
   "id": "6d9888fe",
   "metadata": {},
   "outputs": [
    {
     "name": "stdout",
     "output_type": "stream",
     "text": [
      "+-------------+----------+------+\n",
      "|employee_name|department|salary|\n",
      "+-------------+----------+------+\n",
      "|        Kumar| Marketing|  2000|\n",
      "|        James|     Sales|  3000|\n",
      "|        Maria|   Finance|  3000|\n",
      "|        James|     Sales|  3000|\n",
      "|         Jeff| Marketing|  3000|\n",
      "|        Scott|   Finance|  3300|\n",
      "|          Jen|   Finance|  3900|\n",
      "|       Robert|     Sales|  4100|\n",
      "|         Saif|     Sales|  4100|\n",
      "|      Michael|     Sales|  4600|\n",
      "+-------------+----------+------+\n",
      "\n"
     ]
    }
   ],
   "source": [
    "df.orderBy(asc(\"Salary\")).show()"
   ]
  },
  {
   "cell_type": "markdown",
   "id": "03b655cf",
   "metadata": {},
   "source": [
    "## Función ascendendte con los nulos primero ``asc_nulls_first()``\n",
    "Similar a la función ``asc()`` pero los valores nulos vuelven primero y luego los no nulos."
   ]
  },
  {
   "cell_type": "code",
   "execution_count": 3,
   "id": "07052e2c",
   "metadata": {},
   "outputs": [
    {
     "name": "stdout",
     "output_type": "stream",
     "text": [
      "+-------------+----------+------+\n",
      "|employee_name|department|salary|\n",
      "+-------------+----------+------+\n",
      "|        Kumar| Marketing|  2000|\n",
      "|        James|     Sales|  3000|\n",
      "|        Maria|   Finance|  3000|\n",
      "|        James|     Sales|  3000|\n",
      "|         Jeff| Marketing|  3000|\n",
      "|        Scott|   Finance|  3300|\n",
      "|          Jen|   Finance|  3900|\n",
      "|       Robert|     Sales|  4100|\n",
      "|         Saif|     Sales|  4100|\n",
      "|      Michael|     Sales|  4600|\n",
      "+-------------+----------+------+\n",
      "\n"
     ]
    }
   ],
   "source": [
    "df.orderBy(asc_nulls_first(\"Salary\")).show()"
   ]
  },
  {
   "cell_type": "markdown",
   "id": "67e0490b",
   "metadata": {},
   "source": [
    "## Función ascendente con los nulos al final ``asc_nulls_last()`` \n",
    "Similar a la función ``asc()`` pero los valores no nulos vuelven primero y luego los nulos."
   ]
  },
  {
   "cell_type": "code",
   "execution_count": 4,
   "id": "bb96e884",
   "metadata": {},
   "outputs": [
    {
     "name": "stdout",
     "output_type": "stream",
     "text": [
      "+-------------+----------+------+\n",
      "|employee_name|department|salary|\n",
      "+-------------+----------+------+\n",
      "|        Kumar| Marketing|  2000|\n",
      "|        James|     Sales|  3000|\n",
      "|        Maria|   Finance|  3000|\n",
      "|        James|     Sales|  3000|\n",
      "|         Jeff| Marketing|  3000|\n",
      "|        Scott|   Finance|  3300|\n",
      "|          Jen|   Finance|  3900|\n",
      "|       Robert|     Sales|  4100|\n",
      "|         Saif|     Sales|  4100|\n",
      "|      Michael|     Sales|  4600|\n",
      "+-------------+----------+------+\n",
      "\n"
     ]
    }
   ],
   "source": [
    "df.orderBy(asc_nulls_last(\"Salary\")).show()"
   ]
  },
  {
   "cell_type": "markdown",
   "id": "d59e7df1",
   "metadata": {},
   "source": [
    "## Función descendente ``desc()``\n",
    "La función ``desc()`` se utiliza para especificar el orden descendente de la columna de ordenación del DataFrame o DataSet."
   ]
  },
  {
   "cell_type": "code",
   "execution_count": 5,
   "id": "786969ef",
   "metadata": {},
   "outputs": [
    {
     "name": "stdout",
     "output_type": "stream",
     "text": [
      "+-------------+----------+------+\n",
      "|employee_name|department|salary|\n",
      "+-------------+----------+------+\n",
      "|      Michael|     Sales|  4600|\n",
      "|       Robert|     Sales|  4100|\n",
      "|         Saif|     Sales|  4100|\n",
      "|          Jen|   Finance|  3900|\n",
      "|        Scott|   Finance|  3300|\n",
      "|        James|     Sales|  3000|\n",
      "|        Maria|   Finance|  3000|\n",
      "|        James|     Sales|  3000|\n",
      "|         Jeff| Marketing|  3000|\n",
      "|        Kumar| Marketing|  2000|\n",
      "+-------------+----------+------+\n",
      "\n"
     ]
    }
   ],
   "source": [
    "df.orderBy(desc(\"Salary\")).show()"
   ]
  },
  {
   "cell_type": "markdown",
   "id": "d3526113",
   "metadata": {},
   "source": [
    "## Función descendente con los nulos primero ``desc_nulls_first()``\n",
    "Similar a la función ``desc()``, pero los valores nulos regresan primero y luego los no nulos."
   ]
  },
  {
   "cell_type": "code",
   "execution_count": 6,
   "id": "4c6893d8",
   "metadata": {},
   "outputs": [
    {
     "name": "stdout",
     "output_type": "stream",
     "text": [
      "+-------------+----------+------+\n",
      "|employee_name|department|salary|\n",
      "+-------------+----------+------+\n",
      "|      Michael|     Sales|  4600|\n",
      "|       Robert|     Sales|  4100|\n",
      "|         Saif|     Sales|  4100|\n",
      "|          Jen|   Finance|  3900|\n",
      "|        Scott|   Finance|  3300|\n",
      "|        James|     Sales|  3000|\n",
      "|        Maria|   Finance|  3000|\n",
      "|        James|     Sales|  3000|\n",
      "|         Jeff| Marketing|  3000|\n",
      "|        Kumar| Marketing|  2000|\n",
      "+-------------+----------+------+\n",
      "\n"
     ]
    }
   ],
   "source": [
    "df.orderBy(desc_nulls_first(\"Salary\")).show()"
   ]
  },
  {
   "cell_type": "markdown",
   "id": "13cfd9d5",
   "metadata": {},
   "source": [
    "## Función descendente con los nulos en último lugar ``desc_nulls_last()`` \n",
    "Similar a la función ``desc()`` pero los valores no nulos vuelven primero y luego los nulos."
   ]
  },
  {
   "cell_type": "code",
   "execution_count": 7,
   "id": "fee19515",
   "metadata": {},
   "outputs": [
    {
     "name": "stdout",
     "output_type": "stream",
     "text": [
      "+-------------+----------+------+\n",
      "|employee_name|department|salary|\n",
      "+-------------+----------+------+\n",
      "|      Michael|     Sales|  4600|\n",
      "|       Robert|     Sales|  4100|\n",
      "|         Saif|     Sales|  4100|\n",
      "|          Jen|   Finance|  3900|\n",
      "|        Scott|   Finance|  3300|\n",
      "|        James|     Sales|  3000|\n",
      "|        Maria|   Finance|  3000|\n",
      "|        James|     Sales|  3000|\n",
      "|         Jeff| Marketing|  3000|\n",
      "|        Kumar| Marketing|  2000|\n",
      "+-------------+----------+------+\n",
      "\n"
     ]
    }
   ],
   "source": [
    "df.orderBy(desc_nulls_last(\"Salary\")).show()"
   ]
  }
 ],
 "metadata": {
  "kernelspec": {
   "display_name": "spylon-kernel",
   "language": "scala",
   "name": "spylon-kernel"
  },
  "language_info": {
   "codemirror_mode": "text/x-scala",
   "file_extension": ".scala",
   "help_links": [
    {
     "text": "MetaKernel Magics",
     "url": "https://metakernel.readthedocs.io/en/latest/source/README.html"
    }
   ],
   "mimetype": "text/x-scala",
   "name": "scala",
   "pygments_lexer": "scala",
   "version": "0.4.1"
  }
 },
 "nbformat": 4,
 "nbformat_minor": 5
}
